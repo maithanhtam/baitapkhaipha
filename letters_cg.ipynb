{
  "cells": [
    {
      "cell_type": "code",
      "execution_count": null,
      "metadata": {
        "_cell_guid": "b1076dfc-b9ad-4769-8c92-a6c4dae69d19",
        "_uuid": "8f2839f25d086af736a60e9eeb907d3b93b6e0e5",
        "execution": {
          "iopub.execute_input": "2022-04-04T12:42:16.049785Z",
          "iopub.status.busy": "2022-04-04T12:42:16.049506Z",
          "iopub.status.idle": "2022-04-04T12:42:16.058081Z",
          "shell.execute_reply": "2022-04-04T12:42:16.056748Z",
          "shell.execute_reply.started": "2022-04-04T12:42:16.049755Z"
        },
        "trusted": true,
        "id": "Ua4n5NQXXINA"
      },
      "outputs": [],
      "source": [
        "import pandas as pd\n",
        "from sklearn.tree import DecisionTreeClassifier # Import Decision Tree Classifier\n",
        "from sklearn.model_selection import train_test_split # Import train_test_split function\n",
        "import matplotlib.pyplot as plt\n",
        "\n",
        "from sklearn import metrics #Import scikit-learn metrics module for accuracy calculation\n",
        "import time"
      ]
    },
    {
      "cell_type": "markdown",
      "metadata": {
        "id": "g4GmDqisXINJ"
      },
      "source": [
        ""
      ]
    },
    {
      "cell_type": "code",
      "execution_count": null,
      "metadata": {
        "execution": {
          "iopub.execute_input": "2022-04-04T12:57:10.933677Z",
          "iopub.status.busy": "2022-04-04T12:57:10.933373Z",
          "iopub.status.idle": "2022-04-04T12:57:10.991222Z",
          "shell.execute_reply": "2022-04-04T12:57:10.990187Z",
          "shell.execute_reply.started": "2022-04-04T12:57:10.933647Z"
        },
        "trusted": true,
        "colab": {
          "base_uri": "https://localhost:8080/",
          "height": 250
        },
        "id": "4HAw5ZBbXINL",
        "outputId": "fb3e1a7c-f7fc-448b-c8eb-68019819e686"
      },
      "outputs": [
        {
          "output_type": "execute_result",
          "data": {
            "text/plain": [
              "   Class  x-box  y-box  width  high  onpix  x-bar  y-bar  x2bar  y2bar  xybar  \\\n",
              "0      0      4     10      5     8      2      5      7      7     10      7   \n",
              "1      0      3      5      4     4      2      4      8      5      7     12   \n",
              "2      1      5     10      6     7      3      8      7      8      8      6   \n",
              "3      0      5      9      6     7      4      3      8      6      7     12   \n",
              "4      1      4      8      5     6      3      6      6      7      6     10   \n",
              "\n",
              "   x2ybr  xy2br  x-ege  xegvy  y-ege  yegvx  \n",
              "0      6     13      1      8      4      9  \n",
              "1      9     11      1     10      2      7  \n",
              "2      7      9      2      7      5     10  \n",
              "3     10     13      1      9      3      7  \n",
              "4      7     12      2      9      4      9  "
            ],
            "text/html": [
              "\n",
              "  <div id=\"df-8b2b4546-f625-4e66-8ee7-240bf1a1e12c\">\n",
              "    <div class=\"colab-df-container\">\n",
              "      <div>\n",
              "<style scoped>\n",
              "    .dataframe tbody tr th:only-of-type {\n",
              "        vertical-align: middle;\n",
              "    }\n",
              "\n",
              "    .dataframe tbody tr th {\n",
              "        vertical-align: top;\n",
              "    }\n",
              "\n",
              "    .dataframe thead th {\n",
              "        text-align: right;\n",
              "    }\n",
              "</style>\n",
              "<table border=\"1\" class=\"dataframe\">\n",
              "  <thead>\n",
              "    <tr style=\"text-align: right;\">\n",
              "      <th></th>\n",
              "      <th>Class</th>\n",
              "      <th>x-box</th>\n",
              "      <th>y-box</th>\n",
              "      <th>width</th>\n",
              "      <th>high</th>\n",
              "      <th>onpix</th>\n",
              "      <th>x-bar</th>\n",
              "      <th>y-bar</th>\n",
              "      <th>x2bar</th>\n",
              "      <th>y2bar</th>\n",
              "      <th>xybar</th>\n",
              "      <th>x2ybr</th>\n",
              "      <th>xy2br</th>\n",
              "      <th>x-ege</th>\n",
              "      <th>xegvy</th>\n",
              "      <th>y-ege</th>\n",
              "      <th>yegvx</th>\n",
              "    </tr>\n",
              "  </thead>\n",
              "  <tbody>\n",
              "    <tr>\n",
              "      <th>0</th>\n",
              "      <td>0</td>\n",
              "      <td>4</td>\n",
              "      <td>10</td>\n",
              "      <td>5</td>\n",
              "      <td>8</td>\n",
              "      <td>2</td>\n",
              "      <td>5</td>\n",
              "      <td>7</td>\n",
              "      <td>7</td>\n",
              "      <td>10</td>\n",
              "      <td>7</td>\n",
              "      <td>6</td>\n",
              "      <td>13</td>\n",
              "      <td>1</td>\n",
              "      <td>8</td>\n",
              "      <td>4</td>\n",
              "      <td>9</td>\n",
              "    </tr>\n",
              "    <tr>\n",
              "      <th>1</th>\n",
              "      <td>0</td>\n",
              "      <td>3</td>\n",
              "      <td>5</td>\n",
              "      <td>4</td>\n",
              "      <td>4</td>\n",
              "      <td>2</td>\n",
              "      <td>4</td>\n",
              "      <td>8</td>\n",
              "      <td>5</td>\n",
              "      <td>7</td>\n",
              "      <td>12</td>\n",
              "      <td>9</td>\n",
              "      <td>11</td>\n",
              "      <td>1</td>\n",
              "      <td>10</td>\n",
              "      <td>2</td>\n",
              "      <td>7</td>\n",
              "    </tr>\n",
              "    <tr>\n",
              "      <th>2</th>\n",
              "      <td>1</td>\n",
              "      <td>5</td>\n",
              "      <td>10</td>\n",
              "      <td>6</td>\n",
              "      <td>7</td>\n",
              "      <td>3</td>\n",
              "      <td>8</td>\n",
              "      <td>7</td>\n",
              "      <td>8</td>\n",
              "      <td>8</td>\n",
              "      <td>6</td>\n",
              "      <td>7</td>\n",
              "      <td>9</td>\n",
              "      <td>2</td>\n",
              "      <td>7</td>\n",
              "      <td>5</td>\n",
              "      <td>10</td>\n",
              "    </tr>\n",
              "    <tr>\n",
              "      <th>3</th>\n",
              "      <td>0</td>\n",
              "      <td>5</td>\n",
              "      <td>9</td>\n",
              "      <td>6</td>\n",
              "      <td>7</td>\n",
              "      <td>4</td>\n",
              "      <td>3</td>\n",
              "      <td>8</td>\n",
              "      <td>6</td>\n",
              "      <td>7</td>\n",
              "      <td>12</td>\n",
              "      <td>10</td>\n",
              "      <td>13</td>\n",
              "      <td>1</td>\n",
              "      <td>9</td>\n",
              "      <td>3</td>\n",
              "      <td>7</td>\n",
              "    </tr>\n",
              "    <tr>\n",
              "      <th>4</th>\n",
              "      <td>1</td>\n",
              "      <td>4</td>\n",
              "      <td>8</td>\n",
              "      <td>5</td>\n",
              "      <td>6</td>\n",
              "      <td>3</td>\n",
              "      <td>6</td>\n",
              "      <td>6</td>\n",
              "      <td>7</td>\n",
              "      <td>6</td>\n",
              "      <td>10</td>\n",
              "      <td>7</td>\n",
              "      <td>12</td>\n",
              "      <td>2</td>\n",
              "      <td>9</td>\n",
              "      <td>4</td>\n",
              "      <td>9</td>\n",
              "    </tr>\n",
              "  </tbody>\n",
              "</table>\n",
              "</div>\n",
              "      <button class=\"colab-df-convert\" onclick=\"convertToInteractive('df-8b2b4546-f625-4e66-8ee7-240bf1a1e12c')\"\n",
              "              title=\"Convert this dataframe to an interactive table.\"\n",
              "              style=\"display:none;\">\n",
              "        \n",
              "  <svg xmlns=\"http://www.w3.org/2000/svg\" height=\"24px\"viewBox=\"0 0 24 24\"\n",
              "       width=\"24px\">\n",
              "    <path d=\"M0 0h24v24H0V0z\" fill=\"none\"/>\n",
              "    <path d=\"M18.56 5.44l.94 2.06.94-2.06 2.06-.94-2.06-.94-.94-2.06-.94 2.06-2.06.94zm-11 1L8.5 8.5l.94-2.06 2.06-.94-2.06-.94L8.5 2.5l-.94 2.06-2.06.94zm10 10l.94 2.06.94-2.06 2.06-.94-2.06-.94-.94-2.06-.94 2.06-2.06.94z\"/><path d=\"M17.41 7.96l-1.37-1.37c-.4-.4-.92-.59-1.43-.59-.52 0-1.04.2-1.43.59L10.3 9.45l-7.72 7.72c-.78.78-.78 2.05 0 2.83L4 21.41c.39.39.9.59 1.41.59.51 0 1.02-.2 1.41-.59l7.78-7.78 2.81-2.81c.8-.78.8-2.07 0-2.86zM5.41 20L4 18.59l7.72-7.72 1.47 1.35L5.41 20z\"/>\n",
              "  </svg>\n",
              "      </button>\n",
              "      \n",
              "  <style>\n",
              "    .colab-df-container {\n",
              "      display:flex;\n",
              "      flex-wrap:wrap;\n",
              "      gap: 12px;\n",
              "    }\n",
              "\n",
              "    .colab-df-convert {\n",
              "      background-color: #E8F0FE;\n",
              "      border: none;\n",
              "      border-radius: 50%;\n",
              "      cursor: pointer;\n",
              "      display: none;\n",
              "      fill: #1967D2;\n",
              "      height: 32px;\n",
              "      padding: 0 0 0 0;\n",
              "      width: 32px;\n",
              "    }\n",
              "\n",
              "    .colab-df-convert:hover {\n",
              "      background-color: #E2EBFA;\n",
              "      box-shadow: 0px 1px 2px rgba(60, 64, 67, 0.3), 0px 1px 3px 1px rgba(60, 64, 67, 0.15);\n",
              "      fill: #174EA6;\n",
              "    }\n",
              "\n",
              "    [theme=dark] .colab-df-convert {\n",
              "      background-color: #3B4455;\n",
              "      fill: #D2E3FC;\n",
              "    }\n",
              "\n",
              "    [theme=dark] .colab-df-convert:hover {\n",
              "      background-color: #434B5C;\n",
              "      box-shadow: 0px 1px 3px 1px rgba(0, 0, 0, 0.15);\n",
              "      filter: drop-shadow(0px 1px 2px rgba(0, 0, 0, 0.3));\n",
              "      fill: #FFFFFF;\n",
              "    }\n",
              "  </style>\n",
              "\n",
              "      <script>\n",
              "        const buttonEl =\n",
              "          document.querySelector('#df-8b2b4546-f625-4e66-8ee7-240bf1a1e12c button.colab-df-convert');\n",
              "        buttonEl.style.display =\n",
              "          google.colab.kernel.accessAllowed ? 'block' : 'none';\n",
              "\n",
              "        async function convertToInteractive(key) {\n",
              "          const element = document.querySelector('#df-8b2b4546-f625-4e66-8ee7-240bf1a1e12c');\n",
              "          const dataTable =\n",
              "            await google.colab.kernel.invokeFunction('convertToInteractive',\n",
              "                                                     [key], {});\n",
              "          if (!dataTable) return;\n",
              "\n",
              "          const docLinkHtml = 'Like what you see? Visit the ' +\n",
              "            '<a target=\"_blank\" href=https://colab.research.google.com/notebooks/data_table.ipynb>data table notebook</a>'\n",
              "            + ' to learn more about interactive tables.';\n",
              "          element.innerHTML = '';\n",
              "          dataTable['output_type'] = 'display_data';\n",
              "          await google.colab.output.renderOutput(dataTable, element);\n",
              "          const docLink = document.createElement('div');\n",
              "          docLink.innerHTML = docLinkHtml;\n",
              "          element.appendChild(docLink);\n",
              "        }\n",
              "      </script>\n",
              "    </div>\n",
              "  </div>\n",
              "  "
            ]
          },
          "metadata": {},
          "execution_count": 6
        }
      ],
      "source": [
        "\n",
        "df = pd.read_csv('./letters_CG.csv', sep='\\s+', engine='python', header=0)\n",
        "df.rename(columns={'#a':'a'}, inplace=True)\n",
        "df.head()"
      ]
    },
    {
      "cell_type": "code",
      "execution_count": null,
      "metadata": {
        "execution": {
          "iopub.execute_input": "2022-04-04T12:59:51.130774Z",
          "iopub.status.busy": "2022-04-04T12:59:51.130490Z",
          "iopub.status.idle": "2022-04-04T12:59:51.196903Z",
          "shell.execute_reply": "2022-04-04T12:59:51.195994Z",
          "shell.execute_reply.started": "2022-04-04T12:59:51.130742Z"
        },
        "trusted": true,
        "id": "q5d1qh72XINO"
      },
      "outputs": [],
      "source": [
        "feature_cols = df.columns\n",
        "X = df[feature_cols] # Features\n",
        "y = df.Class # Target variable"
      ]
    },
    {
      "cell_type": "code",
      "execution_count": null,
      "metadata": {
        "execution": {
          "iopub.execute_input": "2022-04-04T13:01:43.418106Z",
          "iopub.status.busy": "2022-04-04T13:01:43.417769Z",
          "iopub.status.idle": "2022-04-04T13:01:43.671215Z",
          "shell.execute_reply": "2022-04-04T13:01:43.670289Z",
          "shell.execute_reply.started": "2022-04-04T13:01:43.418075Z"
        },
        "trusted": true,
        "id": "qF2AVZFqXINP"
      },
      "outputs": [],
      "source": [
        "X_train, X_test, y_train, y_test = train_test_split(X, y, test_size=0.3, random_state=1) "
      ]
    },
    {
      "cell_type": "code",
      "execution_count": null,
      "metadata": {
        "execution": {
          "iopub.execute_input": "2022-04-04T13:02:14.059507Z",
          "iopub.status.busy": "2022-04-04T13:02:14.058965Z",
          "iopub.status.idle": "2022-04-04T13:02:14.116018Z",
          "shell.execute_reply": "2022-04-04T13:02:14.115304Z",
          "shell.execute_reply.started": "2022-04-04T13:02:14.059472Z"
        },
        "trusted": true,
        "colab": {
          "base_uri": "https://localhost:8080/"
        },
        "id": "SkdmPI__XINQ",
        "outputId": "96f20835-7d7d-4967-bb0c-1e48d6a95c2b"
      },
      "outputs": [
        {
          "output_type": "stream",
          "name": "stdout",
          "text": [
            "Time taken 0.02142333984375 sec\n"
          ]
        }
      ],
      "source": [
        "a=time.time()\n",
        "clf = DecisionTreeClassifier(criterion=\"gini\", max_depth=1)\n",
        "clf = clf.fit(X_train,y_train)\n",
        "b=time.time()\n",
        "t=b-a\n",
        "print(\"Time taken\",t,\"sec\")"
      ]
    },
    {
      "cell_type": "code",
      "execution_count": null,
      "metadata": {
        "execution": {
          "iopub.execute_input": "2022-04-04T13:03:49.748262Z",
          "iopub.status.busy": "2022-04-04T13:03:49.747960Z",
          "iopub.status.idle": "2022-04-04T13:03:50.030990Z",
          "shell.execute_reply": "2022-04-04T13:03:50.030177Z",
          "shell.execute_reply.started": "2022-04-04T13:03:49.748215Z"
        },
        "trusted": true,
        "colab": {
          "base_uri": "https://localhost:8080/"
        },
        "id": "JcvUh11_XINS",
        "outputId": "7469be87-6618-446a-9540-74c3c9e6841d"
      },
      "outputs": [
        {
          "output_type": "stream",
          "name": "stdout",
          "text": [
            "Accuracy: 1.0\n",
            "Training performance\n",
            "\n",
            "              precision    recall  f1-score   support\n",
            "\n",
            "           0       1.00      1.00      1.00       512\n",
            "           1       1.00      1.00      1.00       544\n",
            "\n",
            "    accuracy                           1.00      1056\n",
            "   macro avg       1.00      1.00      1.00      1056\n",
            "weighted avg       1.00      1.00      1.00      1056\n",
            "\n",
            "\n",
            "[[512   0]\n",
            " [  0 544]]\n",
            "Accuracy:   1.0\n"
          ]
        }
      ],
      "source": [
        "y_pred = clf.predict(X_train)\n",
        "print(\"Accuracy:\",metrics.accuracy_score(y_train, y_pred))\n",
        "print(\"Training performance\")\n",
        "from sklearn import metrics\n",
        "expected_y  = y_train\n",
        "print(); print(metrics.classification_report(expected_y, y_pred))\n",
        "print(); print(metrics.confusion_matrix(expected_y,y_pred))\n",
        "print(\"Accuracy:  \",metrics.accuracy_score(expected_y, y_pred))"
      ]
    },
    {
      "cell_type": "code",
      "execution_count": null,
      "metadata": {
        "execution": {
          "iopub.execute_input": "2022-04-04T13:07:32.372385Z",
          "iopub.status.busy": "2022-04-04T13:07:32.372077Z",
          "iopub.status.idle": "2022-04-04T13:07:32.655904Z",
          "shell.execute_reply": "2022-04-04T13:07:32.655057Z",
          "shell.execute_reply.started": "2022-04-04T13:07:32.372355Z"
        },
        "trusted": true,
        "colab": {
          "base_uri": "https://localhost:8080/"
        },
        "id": "2Si-S_2FXINT",
        "outputId": "74f1d3c5-00db-4beb-feea-1fc24717efa8"
      },
      "outputs": [
        {
          "output_type": "stream",
          "name": "stdout",
          "text": [
            "Accuracy: 1.0\n"
          ]
        }
      ],
      "source": [
        "y_pred = clf.predict(X_test)\n",
        "print(\"Accuracy:\",metrics.accuracy_score(y_test, y_pred))"
      ]
    },
    {
      "cell_type": "code",
      "execution_count": null,
      "metadata": {
        "colab": {
          "base_uri": "https://localhost:8080/"
        },
        "id": "s26Xa0nFXINU",
        "outputId": "f849c6f1-8ef9-4c3d-e8c8-53e8c7cee087"
      },
      "outputs": [
        {
          "output_type": "stream",
          "name": "stdout",
          "text": [
            "\n",
            "              precision    recall  f1-score   support\n",
            "\n",
            "           0       1.00      1.00      1.00       224\n",
            "           1       1.00      1.00      1.00       229\n",
            "\n",
            "    accuracy                           1.00       453\n",
            "   macro avg       1.00      1.00      1.00       453\n",
            "weighted avg       1.00      1.00      1.00       453\n",
            "\n",
            "\n",
            "[[224   0]\n",
            " [  0 229]]\n",
            "Accuracy:   1.0\n"
          ]
        }
      ],
      "source": [
        "from sklearn import metrics\n",
        "expected_y  = y_test\n",
        "print(); print(metrics.classification_report(expected_y, y_pred))\n",
        "print(); print(metrics.confusion_matrix(expected_y,y_pred))\n",
        "print(\"Accuracy:  \",metrics.accuracy_score(expected_y, y_pred))"
      ]
    },
    {
      "cell_type": "code",
      "execution_count": null,
      "metadata": {
        "colab": {
          "base_uri": "https://localhost:8080/"
        },
        "id": "joRPTu_DXINW",
        "outputId": "7e0ddc66-dd47-4d63-9846-1af7d2b92ab2"
      },
      "outputs": [
        {
          "output_type": "stream",
          "name": "stdout",
          "text": [
            "Accuracy: 1.0\n",
            "Training performance\n",
            "\n",
            "              precision    recall  f1-score   support\n",
            "\n",
            "           0       1.00      1.00      1.00       512\n",
            "           1       1.00      1.00      1.00       544\n",
            "\n",
            "    accuracy                           1.00      1056\n",
            "   macro avg       1.00      1.00      1.00      1056\n",
            "weighted avg       1.00      1.00      1.00      1056\n",
            "\n",
            "\n",
            "[[512   0]\n",
            " [  0 544]]\n",
            "Accuracy:   1.0\n"
          ]
        }
      ],
      "source": [
        "y_pred = clf.predict(X_train)\n",
        "print(\"Accuracy:\",metrics.accuracy_score(y_train, y_pred))\n",
        "print(\"Training performance\")\n",
        "from sklearn import metrics\n",
        "expected_y  = y_train\n",
        "print(); print(metrics.classification_report(expected_y, y_pred))\n",
        "print(); print(metrics.confusion_matrix(expected_y,y_pred))\n",
        "print(\"Accuracy:  \",metrics.accuracy_score(expected_y, y_pred))"
      ]
    },
    {
      "cell_type": "code",
      "execution_count": null,
      "metadata": {
        "colab": {
          "base_uri": "https://localhost:8080/",
          "height": 350
        },
        "id": "Lm9YsE4aXINX",
        "outputId": "9a7263a7-2ad7-4728-db18-1194e69991f0"
      },
      "outputs": [
        {
          "output_type": "display_data",
          "data": {
            "text/plain": [
              "<Figure size 432x288 with 1 Axes>"
            ],
            "image/png": "[encoded data removed]"
          },
          "metadata": {
            "needs_background": "light"
          }
        }
      ],
      "source": [
        "\n",
        "fig = plt.figure()\n",
        "ax = fig.add_axes([0,0,1,1])\n",
        "langs = ['0','1000','5000','10000']\n",
        "students = ['0','0.003','0.008','0.01']\n",
        "ax.bar(langs,students)\n",
        "plt.ylabel('Learning Time', fontweight='bold')\n",
        "plt.xlabel('Data points', fontweight='bold')\n",
        "plt.show()"
      ]
    }
  ],
  "metadata": {
    "kernelspec": {
      "display_name": "Python 3",
      "language": "python",
      "name": "python3"
    },
    "language_info": {
      "codemirror_mode": {
        "name": "ipython",
        "version": 3
      },
      "file_extension": ".py",
      "mimetype": "text/x-python",
      "name": "python",
      "nbconvert_exporter": "python",
      "pygments_lexer": "ipython3",
      "version": "3.10.4"
    },
    "colab": {
      "name": "letters_cg.ipynb",
      "provenance": [],
      "collapsed_sections": []
    }
  },
  "nbformat": 4,
  "nbformat_minor": 0
}